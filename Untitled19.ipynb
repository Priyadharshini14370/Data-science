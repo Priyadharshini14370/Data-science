{
  "nbformat": 4,
  "nbformat_minor": 0,
  "metadata": {
    "colab": {
      "provenance": [],
      "authorship_tag": "ABX9TyM8QYGiNZ2Lgn3N/gjFZLDB",
      "include_colab_link": true
    },
    "kernelspec": {
      "name": "python3",
      "display_name": "Python 3"
    },
    "language_info": {
      "name": "python"
    }
  },
  "cells": [
    {
      "cell_type": "markdown",
      "metadata": {
        "id": "view-in-github",
        "colab_type": "text"
      },
      "source": [
        "<a href=\"https://colab.research.google.com/github/Priyadharshini14370/Data-science/blob/main/Untitled19.ipynb\" target=\"_parent\"><img src=\"https://colab.research.google.com/assets/colab-badge.svg\" alt=\"Open In Colab\"/></a>"
      ]
    },
    {
      "cell_type": "code",
      "execution_count": 1,
      "metadata": {
        "colab": {
          "base_uri": "https://localhost:8080/"
        },
        "id": "osVjTpSgHqv2",
        "outputId": "860fc680-fd6d-43b8-9b8a-ae02d5fb195f"
      },
      "outputs": [
        {
          "output_type": "stream",
          "name": "stdout",
          "text": [
            "Classification Report:\n",
            "              precision    recall  f1-score   support\n",
            "\n",
            "           0       0.50      1.00      0.67         1\n",
            "           1       0.00      0.00      0.00         1\n",
            "\n",
            "    accuracy                           0.50         2\n",
            "   macro avg       0.25      0.50      0.33         2\n",
            "weighted avg       0.25      0.50      0.33         2\n",
            "\n",
            "Predicted Severity: Minor\n"
          ]
        },
        {
          "output_type": "stream",
          "name": "stderr",
          "text": [
            "/usr/local/lib/python3.11/dist-packages/sklearn/metrics/_classification.py:1565: UndefinedMetricWarning: Precision is ill-defined and being set to 0.0 in labels with no predicted samples. Use `zero_division` parameter to control this behavior.\n",
            "  _warn_prf(average, modifier, f\"{metric.capitalize()} is\", len(result))\n",
            "/usr/local/lib/python3.11/dist-packages/sklearn/metrics/_classification.py:1565: UndefinedMetricWarning: Precision is ill-defined and being set to 0.0 in labels with no predicted samples. Use `zero_division` parameter to control this behavior.\n",
            "  _warn_prf(average, modifier, f\"{metric.capitalize()} is\", len(result))\n",
            "/usr/local/lib/python3.11/dist-packages/sklearn/metrics/_classification.py:1565: UndefinedMetricWarning: Precision is ill-defined and being set to 0.0 in labels with no predicted samples. Use `zero_division` parameter to control this behavior.\n",
            "  _warn_prf(average, modifier, f\"{metric.capitalize()} is\", len(result))\n"
          ]
        }
      ],
      "source": [
        "# Import required libraries\n",
        "import pandas as pd\n",
        "from sklearn.model_selection import train_test_split\n",
        "from sklearn.ensemble import RandomForestClassifier\n",
        "from sklearn.metrics import classification_report\n",
        "\n",
        "# Sample dataset (in real-world, you'd load a much larger dataset)\n",
        "data = {\n",
        "    'Weather': ['Clear', 'Rain', 'Snow', 'Fog', 'Clear', 'Rain'],\n",
        "    'Time': ['Day', 'Night', 'Day', 'Night', 'Night', 'Day'],\n",
        "    'Road_Condition': ['Dry', 'Wet', 'Snowy', 'Wet', 'Dry', 'Wet'],\n",
        "    'Severity': ['Minor', 'Severe', 'Severe', 'Severe', 'Minor', 'Minor']\n",
        "}\n",
        "\n",
        "# Convert to DataFrame\n",
        "df = pd.DataFrame(data)\n",
        "\n",
        "# Convert categorical features to numerical using one-hot encoding\n",
        "df_encoded = pd.get_dummies(df.drop('Severity', axis=1))\n",
        "\n",
        "# Encode labels: Minor = 0, Severe = 1\n",
        "df['Severity'] = df['Severity'].map({'Minor': 0, 'Severe': 1})\n",
        "\n",
        "# Split data\n",
        "X = df_encoded\n",
        "y = df['Severity']\n",
        "X_train, X_test, y_train, y_test = train_test_split(X, y, test_size=0.3, random_state=42)\n",
        "\n",
        "# Train model\n",
        "model = RandomForestClassifier()\n",
        "model.fit(X_train, y_train)\n",
        "\n",
        "# Predict\n",
        "y_pred = model.predict(X_test)\n",
        "\n",
        "# Evaluation\n",
        "print(\"Classification Report:\")\n",
        "print(classification_report(y_test, y_pred))\n",
        "\n",
        "# Example prediction\n",
        "sample = pd.DataFrame({\n",
        "    'Weather_Clear': [1],\n",
        "    'Weather_Fog': [0],\n",
        "    'Weather_Rain': [0],\n",
        "    'Weather_Snow': [0],\n",
        "    'Time_Day': [1],\n",
        "    'Time_Night': [0],\n",
        "    'Road_Condition_Dry': [1],\n",
        "    'Road_Condition_Snowy': [0],\n",
        "    'Road_Condition_Wet': [0]\n",
        "})\n",
        "prediction = model.predict(sample)\n",
        "print(\"Predicted Severity:\", \"Severe\" if prediction[0] == 1 else \"Minor\")"
      ]
    }
  ]
}